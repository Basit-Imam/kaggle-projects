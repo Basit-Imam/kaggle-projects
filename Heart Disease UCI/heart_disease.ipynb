{
 "cells": [
  {
   "cell_type": "markdown",
   "metadata": {},
   "source": [
    "# Introduction\n",
    "Classification is a process of dividing the given data points into two or more classes. When the number of classes = 2, it is known as Binary Classification.\n",
    "\n",
    "In this notebook, we'll be performing Binary Classification to **predict whether a person has a heart disease or not.**\n",
    "\n",
    "There are 2 classes:\n",
    "1. Heart disease present (target=1)\n",
    "2. Heart disease not present (target=0)"
   ]
  },
  {
   "cell_type": "markdown",
   "metadata": {},
   "source": [
    "# Data Description\n",
    "* **age:** Age in years\n",
    "* **sex:** 1 = male, 0 = female\n",
    "* **cp:** Chest pain type\n",
    "* **trestbps:** Resting blood pressure (in mm Hg on admission to the hospital)\n",
    "* **chol:** serum cholesterol in mg/dl\n",
    "* **fbs:** fasting blood sugar > 120 mg/dl (1 = true; 0 = false)\n",
    "* **restecg:**Resting electrocardiographic results\n",
    "* **thalach:** Maximum heart rate achieved\n",
    "* **exang:** Exercise induced angina (1 = yes; 0 = no)\n",
    "* **oldpeak:** ST depression induced by exercise relative to rest\n",
    "* **slope:** The slope of the peak exercise ST segment\n",
    "* **ca:** Number of major vessels (0-3) colored by fluoroscopy\n",
    "* **thal:** 3 = normal; 6 = fixed defect; 7 = reversible defect\n",
    "* **target:** 1 = Heart disease present, 0 = Heart disease not present"
   ]
  },
  {
   "cell_type": "markdown",
   "metadata": {},
   "source": [
    "# Loading the basic Data Science Libraries\n"
   ]
  },
  {
   "cell_type": "code",
   "execution_count": 127,
   "metadata": {},
   "outputs": [],
   "source": [
    "import numpy as np  # for matrix operations\n",
    "import pandas as pd  # for loading CSV Files\n",
    "import matplotlib.pyplot as plt # for Data Visualization"
   ]
  },
  {
   "cell_type": "markdown",
   "metadata": {},
   "source": [
    "# Loading Data\n",
    "Pandas module is used for reading files. Since we have our data in '.csv' format, we will use 'read_csv()' function for loading the data"
   ]
  },
  {
   "cell_type": "code",
   "execution_count": 128,
   "metadata": {},
   "outputs": [],
   "source": [
    "data = pd.read_csv(\"heart.csv\")"
   ]
  },
  {
   "cell_type": "code",
   "execution_count": 129,
   "metadata": {
    "scrolled": true
   },
   "outputs": [
    {
     "data": {
      "text/html": [
       "<div>\n",
       "<style scoped>\n",
       "    .dataframe tbody tr th:only-of-type {\n",
       "        vertical-align: middle;\n",
       "    }\n",
       "\n",
       "    .dataframe tbody tr th {\n",
       "        vertical-align: top;\n",
       "    }\n",
       "\n",
       "    .dataframe thead th {\n",
       "        text-align: right;\n",
       "    }\n",
       "</style>\n",
       "<table border=\"1\" class=\"dataframe\">\n",
       "  <thead>\n",
       "    <tr style=\"text-align: right;\">\n",
       "      <th></th>\n",
       "      <th>age</th>\n",
       "      <th>sex</th>\n",
       "      <th>cp</th>\n",
       "      <th>trestbps</th>\n",
       "      <th>chol</th>\n",
       "      <th>fbs</th>\n",
       "      <th>restecg</th>\n",
       "      <th>thalach</th>\n",
       "      <th>exang</th>\n",
       "      <th>oldpeak</th>\n",
       "      <th>slope</th>\n",
       "      <th>ca</th>\n",
       "      <th>thal</th>\n",
       "      <th>target</th>\n",
       "    </tr>\n",
       "  </thead>\n",
       "  <tbody>\n",
       "    <tr>\n",
       "      <th>0</th>\n",
       "      <td>63</td>\n",
       "      <td>1</td>\n",
       "      <td>3</td>\n",
       "      <td>145</td>\n",
       "      <td>233</td>\n",
       "      <td>1</td>\n",
       "      <td>0</td>\n",
       "      <td>150</td>\n",
       "      <td>0</td>\n",
       "      <td>2.3</td>\n",
       "      <td>0</td>\n",
       "      <td>0</td>\n",
       "      <td>1</td>\n",
       "      <td>1</td>\n",
       "    </tr>\n",
       "    <tr>\n",
       "      <th>1</th>\n",
       "      <td>37</td>\n",
       "      <td>1</td>\n",
       "      <td>2</td>\n",
       "      <td>130</td>\n",
       "      <td>250</td>\n",
       "      <td>0</td>\n",
       "      <td>1</td>\n",
       "      <td>187</td>\n",
       "      <td>0</td>\n",
       "      <td>3.5</td>\n",
       "      <td>0</td>\n",
       "      <td>0</td>\n",
       "      <td>2</td>\n",
       "      <td>1</td>\n",
       "    </tr>\n",
       "    <tr>\n",
       "      <th>2</th>\n",
       "      <td>41</td>\n",
       "      <td>0</td>\n",
       "      <td>1</td>\n",
       "      <td>130</td>\n",
       "      <td>204</td>\n",
       "      <td>0</td>\n",
       "      <td>0</td>\n",
       "      <td>172</td>\n",
       "      <td>0</td>\n",
       "      <td>1.4</td>\n",
       "      <td>2</td>\n",
       "      <td>0</td>\n",
       "      <td>2</td>\n",
       "      <td>1</td>\n",
       "    </tr>\n",
       "    <tr>\n",
       "      <th>3</th>\n",
       "      <td>56</td>\n",
       "      <td>1</td>\n",
       "      <td>1</td>\n",
       "      <td>120</td>\n",
       "      <td>236</td>\n",
       "      <td>0</td>\n",
       "      <td>1</td>\n",
       "      <td>178</td>\n",
       "      <td>0</td>\n",
       "      <td>0.8</td>\n",
       "      <td>2</td>\n",
       "      <td>0</td>\n",
       "      <td>2</td>\n",
       "      <td>1</td>\n",
       "    </tr>\n",
       "    <tr>\n",
       "      <th>4</th>\n",
       "      <td>57</td>\n",
       "      <td>0</td>\n",
       "      <td>0</td>\n",
       "      <td>120</td>\n",
       "      <td>354</td>\n",
       "      <td>0</td>\n",
       "      <td>1</td>\n",
       "      <td>163</td>\n",
       "      <td>1</td>\n",
       "      <td>0.6</td>\n",
       "      <td>2</td>\n",
       "      <td>0</td>\n",
       "      <td>2</td>\n",
       "      <td>1</td>\n",
       "    </tr>\n",
       "  </tbody>\n",
       "</table>\n",
       "</div>"
      ],
      "text/plain": [
       "   age  sex  cp  trestbps  chol  fbs  restecg  thalach  exang  oldpeak  slope  \\\n",
       "0   63    1   3       145   233    1        0      150      0      2.3      0   \n",
       "1   37    1   2       130   250    0        1      187      0      3.5      0   \n",
       "2   41    0   1       130   204    0        0      172      0      1.4      2   \n",
       "3   56    1   1       120   236    0        1      178      0      0.8      2   \n",
       "4   57    0   0       120   354    0        1      163      1      0.6      2   \n",
       "\n",
       "   ca  thal  target  \n",
       "0   0     1       1  \n",
       "1   0     2       1  \n",
       "2   0     2       1  \n",
       "3   0     2       1  \n",
       "4   0     2       1  "
      ]
     },
     "execution_count": 129,
     "metadata": {},
     "output_type": "execute_result"
    }
   ],
   "source": [
    "data.head()"
   ]
  },
  {
   "cell_type": "code",
   "execution_count": 130,
   "metadata": {},
   "outputs": [
    {
     "data": {
      "text/plain": [
       "(303, 14)"
      ]
     },
     "execution_count": 130,
     "metadata": {},
     "output_type": "execute_result"
    }
   ],
   "source": [
    "data.shape # This gives the shape of the DataFrame i.e the (no. of rows, no. of columns)"
   ]
  },
  {
   "cell_type": "code",
   "execution_count": 131,
   "metadata": {},
   "outputs": [
    {
     "data": {
      "text/plain": [
       "age         0\n",
       "sex         0\n",
       "cp          0\n",
       "trestbps    0\n",
       "chol        0\n",
       "fbs         0\n",
       "restecg     0\n",
       "thalach     0\n",
       "exang       0\n",
       "oldpeak     0\n",
       "slope       0\n",
       "ca          0\n",
       "thal        0\n",
       "target      0\n",
       "dtype: int64"
      ]
     },
     "execution_count": 131,
     "metadata": {},
     "output_type": "execute_result"
    }
   ],
   "source": [
    "data.isnull().sum() #Checking null values in the dataset"
   ]
  },
  {
   "cell_type": "markdown",
   "metadata": {},
   "source": [
    "# Separating Input and Target Variable\n",
    "**Target Variable/ Independent Variable(y):** Our objective is to detect the presence of heart disease. Thus, our target variable will be the column that indicates whether heart disease is present or not. \n",
    "\n",
    "We'll store that column in a variable y.\n",
    "\n",
    "**Input Variables/ Dependent Variables(X):** The remaining columns, without the Target variable will be stored in variable X."
   ]
  },
  {
   "cell_type": "code",
   "execution_count": 132,
   "metadata": {},
   "outputs": [],
   "source": [
    "X = data.drop('target', axis=1) #Input variables\n",
    "# axis=1 indicates that a column will be dropped\n",
    "y = data['target']  # Target variable"
   ]
  },
  {
   "cell_type": "markdown",
   "metadata": {},
   "source": [
    "# Splitting into Train and Test Sets\n",
    "The next step will be to divide the data into test and train sets. We want to check the performance of the model that we built. For this purpose, we always split (both input and output data) the given data into **train set** which will be used to train the model, and **test set** which will be used to check how accurately the model is predicting outcomes.\n",
    "\n",
    "This is achieved using `train_test_split` function provided in the `model_selection class of sklearn` module.\n",
    "\n",
    "By passing our X and y variables into the train_test_split method, we are able to capture the splits in data by assigning 4 variables to the result.\n",
    "\n",
    "* **X_train:** independent/input feature data for training the model\n",
    "* **y_train:** dependent/output feature data for training the model\n",
    "* **X_test:** independent/input feature data for testing the model; will be used to predict the output values\n",
    "* **y_test:** original dependent/output values of X_test; We will compare this values with our predicted values to check the performance of our built model.\n",
    "* **test_size = 0.20:** 20% of the data will go for test set and 80% of the data will go for train set\n",
    "* **random_state = 42:** this is just for code reproducability. It will fix the split i.e. there will be the same data in train and test sets each time we run the code"
   ]
  },
  {
   "cell_type": "code",
   "execution_count": 133,
   "metadata": {},
   "outputs": [],
   "source": [
    "from sklearn.model_selection import train_test_split\n",
    "X_train, X_test, y_train, y_test = train_test_split(X, y, test_size=0.2, random_state=42)"
   ]
  },
  {
   "cell_type": "code",
   "execution_count": 134,
   "metadata": {},
   "outputs": [
    {
     "data": {
      "text/plain": [
       "13"
      ]
     },
     "execution_count": 134,
     "metadata": {},
     "output_type": "execute_result"
    }
   ],
   "source": [
    "# number of input features\n",
    "X_train.shape[1]"
   ]
  },
  {
   "cell_type": "markdown",
   "metadata": {},
   "source": [
    "# Model Building\n",
    "Now that we have our data fully processed and split into training and testing datasets, we can begin building a neural network to solve this classification problem. "
   ]
  },
  {
   "cell_type": "code",
   "execution_count": 135,
   "metadata": {},
   "outputs": [],
   "source": [
    "# Imports\n",
    "import tensorflow as tf  # Importing the TensorFlow Library\n",
    "from tensorflow import keras  # Import Keras from TensorFlow\n",
    "\n",
    "from tensorflow.keras import Sequential \n",
    "from tensorflow.keras import layers\n",
    "from tensorflow.keras.layers import Dense"
   ]
  },
  {
   "cell_type": "markdown",
   "metadata": {},
   "source": [
    "## Model Creation/ Definition\n",
    "We create a Sequential model and add layers one at a time until we are happy with our network architecture.\n",
    "\n",
    "The first thing to get right is to ensure the input layer has the right number of input features.\n",
    "\n",
    "Since this is a binary classification problem, we will use a sigmoid activation function in the final layer of our network.\n",
    "\n",
    "**Sigmoid is commonly used in the output layer. This is because it helps in giving a probability(value between 0 and 1) which is useful in Binary Classification.**"
   ]
  },
  {
   "cell_type": "markdown",
   "metadata": {},
   "source": [
    "### Our model architecture\n",
    "For our model, we'll be considering the following:\n",
    "\n",
    "* Input = the no. of features in X_train = 13\n",
    "* No. of neurons/units in first Dense layer = 32\n",
    "* No. of neurons/units in second Dense layer = 16\n",
    "* No. of neurons/units in third Dense layer = 8\n",
    "* No. of neurons/units in output layer = 1\n",
    "\n",
    "If you closely look at it, we're slowly decreasing the number of neurons in each layer. Deciding the no. of hidden layers and no. of neurons is a process of trial and error. "
   ]
  },
  {
   "cell_type": "code",
   "execution_count": 136,
   "metadata": {},
   "outputs": [],
   "source": [
    "# Building the model\n",
    "model = Sequential()\n",
    "model.add(Dense(32, activation='relu', input_shape=(X_train.shape[1],)))   \n",
    "model.add(Dense(16, activation='relu'))\n",
    "model.add(Dense(8, activation='relu'))\n",
    "model.add(Dense(1, activation='sigmoid'))"
   ]
  },
  {
   "cell_type": "markdown",
   "metadata": {},
   "source": [
    "* The above code creates a Neural Network that has 4 layers. \n",
    "\n",
    "* The **last node** uses the **sigmoid activation function** that will squeeze all the values between 0 and 1.\n",
    "\n",
    "* The other layers use **ReLU (Rectified Linear Units)** as the activation function. ReLU is a half rectified function; that is, for all the inputs less than 0 (e.g. -120,-6.7, -0.0344, 0) the value is 0 while for anything positive (e.g. 10,15, 34) the value is retained. \n",
    "\n",
    "* One output unit is used since for each record values in X, a probability will be predicted. If it is high, then the person has a heart disease. If it is less, then the person does not have a heart disease."
   ]
  },
  {
   "cell_type": "markdown",
   "metadata": {},
   "source": [
    "# Model Compilation"
   ]
  },
  {
   "cell_type": "code",
   "execution_count": 137,
   "metadata": {},
   "outputs": [],
   "source": [
    "# Compiling the model\n",
    "from tensorflow.keras.optimizers import RMSprop\n",
    "optimizer = RMSprop(0.001)  # Here, we have set our learning rate as 0.001\n",
    "model.compile(loss='binary_crossentropy', optimizer= optimizer , metrics=['accuracy'])"
   ]
  },
  {
   "cell_type": "markdown",
   "metadata": {},
   "source": [
    "* The above code compiles the network.\n",
    "\n",
    "* The **loss function** used is **binary_crossentropy**. For binary classification problems that give output in the form of probability, binary_crossentropy is usually the optimizer of choice.\n",
    "\n",
    "*  It uses **rmsprop** as an **optimizer**. \n",
    "\n",
    "* The **learning rate** is taken to be **0.001**. You can even try different values to see which works the best.It is important to find a good value for the learning rate for your model on your training dataset. \n",
    "\n",
    "  We cannot analytically calculate the optimal learning rate for a given model on a given dataset. Instead, a good (or good enough) learning rate must be discovered via trial and error.\n",
    "\n",
    "  The range of values to consider for the learning rate is less than 1.0 and greater than $10^{-6}$.\n",
    "\n",
    "  A traditional default value for the learning rate is 0.1, 0.01 or 0.001, and this may represent a good starting point on your problem.\n",
    "\n",
    "* **Metrics** used to evaluate the model is **accuracy**. Accuracy calculates how often the predictions calculated by the model are correct."
   ]
  },
  {
   "cell_type": "code",
   "execution_count": 138,
   "metadata": {},
   "outputs": [
    {
     "name": "stdout",
     "output_type": "stream",
     "text": [
      "Model: \"sequential_10\"\n",
      "_________________________________________________________________\n",
      "Layer (type)                 Output Shape              Param #   \n",
      "=================================================================\n",
      "dense_40 (Dense)             (None, 32)                448       \n",
      "_________________________________________________________________\n",
      "dense_41 (Dense)             (None, 16)                528       \n",
      "_________________________________________________________________\n",
      "dense_42 (Dense)             (None, 8)                 136       \n",
      "_________________________________________________________________\n",
      "dense_43 (Dense)             (None, 1)                 9         \n",
      "=================================================================\n",
      "Total params: 1,121\n",
      "Trainable params: 1,121\n",
      "Non-trainable params: 0\n",
      "_________________________________________________________________\n"
     ]
    }
   ],
   "source": [
    "# printing the summary of the model\n",
    "model.summary()"
   ]
  },
  {
   "cell_type": "markdown",
   "metadata": {},
   "source": [
    "## Model Training\n",
    "The model is initially trained for **200 epochs** with a **batch size of 10**. \n",
    "Both epochs and batch size are hyperparameters that can be modified to optimise the model.\n",
    "\n",
    "**validation_split:** Fraction of the training data to be used as validation data. The model will set apart this fraction of the training data, will not train on it, and will evaluate the loss and any model metrics on this data at the end of each epoch. \n",
    "The val_loss and val_accuracy that you can see below are calculated with this validation data.\n",
    "\n",
    "You'll learn more about the importance of validation data later. \n",
    "\n",
    "**verbose:** Verbose is just for printing purposes, for making the output more readable.\n",
    "\n"
   ]
  },
  {
   "cell_type": "markdown",
   "metadata": {},
   "source": [
    "### History\n",
    "Notice that we're saving the trained model to a variable **history**. \n",
    "\n",
    "When running a model, Tensorflow Keras maintains a so-called History object in the background. This object keeps all loss values and other metric values in memory so that they can be used for visualizations.\n",
    "\n",
    "The history object is the output of the fit operation."
   ]
  },
  {
   "cell_type": "code",
   "execution_count": 139,
   "metadata": {},
   "outputs": [
    {
     "name": "stdout",
     "output_type": "stream",
     "text": [
      "WARNING:tensorflow:Falling back from v2 loop because of error: Failed to find data adapter that can handle input: <class 'pandas.core.frame.DataFrame'>, <class 'NoneType'>\n",
      "Train on 193 samples, validate on 49 samples\n",
      "Epoch 1/200\n",
      "193/193 [==============================] - 0s 2ms/sample - loss: 1.7711 - accuracy: 0.4870 - val_loss: 1.8052 - val_accuracy: 0.4082\n",
      "Epoch 2/200\n",
      "193/193 [==============================] - 0s 289us/sample - loss: 0.9388 - accuracy: 0.4922 - val_loss: 0.7412 - val_accuracy: 0.4898\n",
      "Epoch 3/200\n",
      "193/193 [==============================] - 0s 300us/sample - loss: 0.7897 - accuracy: 0.5855 - val_loss: 0.7075 - val_accuracy: 0.6122\n",
      "Epoch 4/200\n",
      "193/193 [==============================] - 0s 289us/sample - loss: 0.6464 - accuracy: 0.6632 - val_loss: 0.6545 - val_accuracy: 0.6735\n",
      "Epoch 5/200\n",
      "193/193 [==============================] - 0s 295us/sample - loss: 0.7272 - accuracy: 0.6477 - val_loss: 1.0059 - val_accuracy: 0.5714\n",
      "Epoch 6/200\n",
      "193/193 [==============================] - 0s 284us/sample - loss: 0.7378 - accuracy: 0.6010 - val_loss: 0.6440 - val_accuracy: 0.6735\n",
      "Epoch 7/200\n",
      "193/193 [==============================] - 0s 284us/sample - loss: 0.6935 - accuracy: 0.6373 - val_loss: 0.7493 - val_accuracy: 0.5102\n",
      "Epoch 8/200\n",
      "193/193 [==============================] - 0s 279us/sample - loss: 0.6503 - accuracy: 0.6373 - val_loss: 0.6495 - val_accuracy: 0.6531\n",
      "Epoch 9/200\n",
      "193/193 [==============================] - 0s 289us/sample - loss: 0.6493 - accuracy: 0.6477 - val_loss: 1.2980 - val_accuracy: 0.5714\n",
      "Epoch 10/200\n",
      "193/193 [==============================] - 0s 289us/sample - loss: 0.6586 - accuracy: 0.6580 - val_loss: 0.6929 - val_accuracy: 0.6327\n",
      "Epoch 11/200\n",
      "193/193 [==============================] - 0s 284us/sample - loss: 0.6764 - accuracy: 0.6477 - val_loss: 0.6502 - val_accuracy: 0.6939\n",
      "Epoch 12/200\n",
      "193/193 [==============================] - 0s 295us/sample - loss: 0.6793 - accuracy: 0.6373 - val_loss: 0.6134 - val_accuracy: 0.6735\n",
      "Epoch 13/200\n",
      "193/193 [==============================] - 0s 295us/sample - loss: 0.6391 - accuracy: 0.6684 - val_loss: 1.1029 - val_accuracy: 0.5714\n",
      "Epoch 14/200\n",
      "193/193 [==============================] - 0s 305us/sample - loss: 0.6582 - accuracy: 0.6684 - val_loss: 0.8393 - val_accuracy: 0.4898\n",
      "Epoch 15/200\n",
      "193/193 [==============================] - 0s 289us/sample - loss: 0.6753 - accuracy: 0.6528 - val_loss: 0.5926 - val_accuracy: 0.7143\n",
      "Epoch 16/200\n",
      "193/193 [==============================] - 0s 295us/sample - loss: 0.6253 - accuracy: 0.6684 - val_loss: 0.5682 - val_accuracy: 0.7143\n",
      "Epoch 17/200\n",
      "193/193 [==============================] - 0s 289us/sample - loss: 0.5798 - accuracy: 0.6891 - val_loss: 0.7202 - val_accuracy: 0.5714\n",
      "Epoch 18/200\n",
      "193/193 [==============================] - 0s 295us/sample - loss: 0.6762 - accuracy: 0.6425 - val_loss: 0.5636 - val_accuracy: 0.7143\n",
      "Epoch 19/200\n",
      "193/193 [==============================] - 0s 295us/sample - loss: 0.5612 - accuracy: 0.6995 - val_loss: 0.5594 - val_accuracy: 0.7347\n",
      "Epoch 20/200\n",
      "193/193 [==============================] - 0s 434us/sample - loss: 0.6277 - accuracy: 0.6839 - val_loss: 0.9795 - val_accuracy: 0.5510\n",
      "Epoch 21/200\n",
      "193/193 [==============================] - 0s 315us/sample - loss: 0.6336 - accuracy: 0.6528 - val_loss: 0.5660 - val_accuracy: 0.6735\n",
      "Epoch 22/200\n",
      "193/193 [==============================] - 0s 279us/sample - loss: 0.6077 - accuracy: 0.6788 - val_loss: 0.5857 - val_accuracy: 0.7143\n",
      "Epoch 23/200\n",
      "193/193 [==============================] - 0s 258us/sample - loss: 0.5221 - accuracy: 0.7306 - val_loss: 1.2569 - val_accuracy: 0.4490\n",
      "Epoch 24/200\n",
      "193/193 [==============================] - 0s 284us/sample - loss: 0.6182 - accuracy: 0.6891 - val_loss: 0.5626 - val_accuracy: 0.7143\n",
      "Epoch 25/200\n",
      "193/193 [==============================] - 0s 279us/sample - loss: 0.5939 - accuracy: 0.6788 - val_loss: 0.8458 - val_accuracy: 0.4898\n",
      "Epoch 26/200\n",
      "193/193 [==============================] - 0s 465us/sample - loss: 0.5613 - accuracy: 0.7098 - val_loss: 0.6123 - val_accuracy: 0.6531\n",
      "Epoch 27/200\n",
      "193/193 [==============================] - 0s 305us/sample - loss: 0.5490 - accuracy: 0.6891 - val_loss: 0.5329 - val_accuracy: 0.7143\n",
      "Epoch 28/200\n",
      "193/193 [==============================] - 0s 253us/sample - loss: 0.5532 - accuracy: 0.6839 - val_loss: 0.5333 - val_accuracy: 0.7143\n",
      "Epoch 29/200\n",
      "193/193 [==============================] - 0s 289us/sample - loss: 0.5418 - accuracy: 0.7358 - val_loss: 0.5145 - val_accuracy: 0.7143\n",
      "Epoch 30/200\n",
      "193/193 [==============================] - 0s 341us/sample - loss: 0.4977 - accuracy: 0.7254 - val_loss: 1.0480 - val_accuracy: 0.4694\n",
      "Epoch 31/200\n",
      "193/193 [==============================] - 0s 305us/sample - loss: 0.5373 - accuracy: 0.7254 - val_loss: 0.6748 - val_accuracy: 0.5510\n",
      "Epoch 32/200\n",
      "193/193 [==============================] - 0s 336us/sample - loss: 0.6026 - accuracy: 0.6632 - val_loss: 0.5120 - val_accuracy: 0.7347\n",
      "Epoch 33/200\n",
      "193/193 [==============================] - 0s 305us/sample - loss: 0.5026 - accuracy: 0.7565 - val_loss: 0.5202 - val_accuracy: 0.7143\n",
      "Epoch 34/200\n",
      "193/193 [==============================] - 0s 289us/sample - loss: 0.5217 - accuracy: 0.7565 - val_loss: 0.5170 - val_accuracy: 0.7755\n",
      "Epoch 35/200\n",
      "193/193 [==============================] - 0s 413us/sample - loss: 0.5435 - accuracy: 0.7306 - val_loss: 0.6261 - val_accuracy: 0.7143\n",
      "Epoch 36/200\n",
      "193/193 [==============================] - 0s 305us/sample - loss: 0.5038 - accuracy: 0.7617 - val_loss: 0.4930 - val_accuracy: 0.7755\n",
      "Epoch 37/200\n",
      "193/193 [==============================] - 0s 248us/sample - loss: 0.5659 - accuracy: 0.7254 - val_loss: 0.6823 - val_accuracy: 0.7143\n",
      "Epoch 38/200\n",
      "193/193 [==============================] - 0s 253us/sample - loss: 0.5304 - accuracy: 0.7306 - val_loss: 0.4834 - val_accuracy: 0.7347\n",
      "Epoch 39/200\n",
      "193/193 [==============================] - 0s 248us/sample - loss: 0.4834 - accuracy: 0.7668 - val_loss: 0.5117 - val_accuracy: 0.7959\n",
      "Epoch 40/200\n",
      "193/193 [==============================] - 0s 243us/sample - loss: 0.4954 - accuracy: 0.7513 - val_loss: 0.4728 - val_accuracy: 0.7347\n",
      "Epoch 41/200\n",
      "193/193 [==============================] - 0s 248us/sample - loss: 0.5054 - accuracy: 0.7461 - val_loss: 0.5796 - val_accuracy: 0.7143\n",
      "Epoch 42/200\n",
      "193/193 [==============================] - 0s 269us/sample - loss: 0.4850 - accuracy: 0.7565 - val_loss: 0.7348 - val_accuracy: 0.6939\n",
      "Epoch 43/200\n",
      "193/193 [==============================] - 0s 248us/sample - loss: 0.4751 - accuracy: 0.7824 - val_loss: 0.7192 - val_accuracy: 0.5714\n",
      "Epoch 44/200\n",
      "193/193 [==============================] - 0s 243us/sample - loss: 0.5229 - accuracy: 0.7358 - val_loss: 0.5092 - val_accuracy: 0.7755\n",
      "Epoch 45/200\n",
      "193/193 [==============================] - 0s 248us/sample - loss: 0.4373 - accuracy: 0.8187 - val_loss: 0.7822 - val_accuracy: 0.5306\n",
      "Epoch 46/200\n",
      "193/193 [==============================] - 0s 253us/sample - loss: 0.4788 - accuracy: 0.7617 - val_loss: 0.8290 - val_accuracy: 0.5102\n",
      "Epoch 47/200\n",
      "193/193 [==============================] - 0s 274us/sample - loss: 0.5095 - accuracy: 0.7461 - val_loss: 0.4820 - val_accuracy: 0.8163\n",
      "Epoch 48/200\n",
      "193/193 [==============================] - 0s 264us/sample - loss: 0.4874 - accuracy: 0.7565 - val_loss: 0.7354 - val_accuracy: 0.6939\n",
      "Epoch 49/200\n",
      "193/193 [==============================] - 0s 253us/sample - loss: 0.5371 - accuracy: 0.7150 - val_loss: 0.5240 - val_accuracy: 0.7551\n",
      "Epoch 50/200\n",
      "193/193 [==============================] - 0s 248us/sample - loss: 0.4629 - accuracy: 0.7720 - val_loss: 0.5017 - val_accuracy: 0.7755\n",
      "Epoch 51/200\n",
      "193/193 [==============================] - 0s 253us/sample - loss: 0.5005 - accuracy: 0.7150 - val_loss: 0.4526 - val_accuracy: 0.7755\n",
      "Epoch 52/200\n",
      "193/193 [==============================] - 0s 253us/sample - loss: 0.4917 - accuracy: 0.7876 - val_loss: 0.5731 - val_accuracy: 0.6735\n",
      "Epoch 53/200\n",
      "193/193 [==============================] - 0s 305us/sample - loss: 0.4543 - accuracy: 0.7772 - val_loss: 0.4852 - val_accuracy: 0.7755\n",
      "Epoch 54/200\n",
      "193/193 [==============================] - 0s 248us/sample - loss: 0.4863 - accuracy: 0.7617 - val_loss: 0.6446 - val_accuracy: 0.7347\n"
     ]
    },
    {
     "name": "stdout",
     "output_type": "stream",
     "text": [
      "Epoch 55/200\n",
      "193/193 [==============================] - 0s 248us/sample - loss: 0.4322 - accuracy: 0.7824 - val_loss: 0.4873 - val_accuracy: 0.7755\n",
      "Epoch 56/200\n",
      "193/193 [==============================] - 0s 269us/sample - loss: 0.5016 - accuracy: 0.7202 - val_loss: 0.4833 - val_accuracy: 0.7755\n",
      "Epoch 57/200\n",
      "193/193 [==============================] - 0s 258us/sample - loss: 0.4532 - accuracy: 0.7979 - val_loss: 0.4371 - val_accuracy: 0.7755\n",
      "Epoch 58/200\n",
      "193/193 [==============================] - 0s 258us/sample - loss: 0.5069 - accuracy: 0.7720 - val_loss: 0.5844 - val_accuracy: 0.6735\n",
      "Epoch 59/200\n",
      "193/193 [==============================] - 0s 243us/sample - loss: 0.5049 - accuracy: 0.7565 - val_loss: 0.4865 - val_accuracy: 0.7959\n",
      "Epoch 60/200\n",
      "193/193 [==============================] - 0s 269us/sample - loss: 0.4908 - accuracy: 0.7565 - val_loss: 0.4584 - val_accuracy: 0.7143\n",
      "Epoch 61/200\n",
      "193/193 [==============================] - 0s 269us/sample - loss: 0.4825 - accuracy: 0.7668 - val_loss: 0.4333 - val_accuracy: 0.7755\n",
      "Epoch 62/200\n",
      "193/193 [==============================] - 0s 279us/sample - loss: 0.4913 - accuracy: 0.7824 - val_loss: 0.4839 - val_accuracy: 0.7551\n",
      "Epoch 63/200\n",
      "193/193 [==============================] - 0s 382us/sample - loss: 0.4417 - accuracy: 0.8031 - val_loss: 0.6733 - val_accuracy: 0.6122\n",
      "Epoch 64/200\n",
      "193/193 [==============================] - 0s 289us/sample - loss: 0.4308 - accuracy: 0.7772 - val_loss: 0.4390 - val_accuracy: 0.7959\n",
      "Epoch 65/200\n",
      "193/193 [==============================] - 0s 315us/sample - loss: 0.4940 - accuracy: 0.7306 - val_loss: 0.4424 - val_accuracy: 0.7959\n",
      "Epoch 66/200\n",
      "193/193 [==============================] - 0s 289us/sample - loss: 0.4115 - accuracy: 0.8135 - val_loss: 0.4409 - val_accuracy: 0.7959\n",
      "Epoch 67/200\n",
      "193/193 [==============================] - 0s 269us/sample - loss: 0.4839 - accuracy: 0.7617 - val_loss: 0.4266 - val_accuracy: 0.7959\n",
      "Epoch 68/200\n",
      "193/193 [==============================] - 0s 320us/sample - loss: 0.4263 - accuracy: 0.8031 - val_loss: 0.4450 - val_accuracy: 0.7959\n",
      "Epoch 69/200\n",
      "193/193 [==============================] - 0s 341us/sample - loss: 0.4274 - accuracy: 0.8135 - val_loss: 0.5715 - val_accuracy: 0.6735\n",
      "Epoch 70/200\n",
      "193/193 [==============================] - 0s 398us/sample - loss: 0.4713 - accuracy: 0.7461 - val_loss: 0.4344 - val_accuracy: 0.8163\n",
      "Epoch 71/200\n",
      "193/193 [==============================] - 0s 336us/sample - loss: 0.4671 - accuracy: 0.7824 - val_loss: 0.4737 - val_accuracy: 0.8163\n",
      "Epoch 72/200\n",
      "193/193 [==============================] - 0s 315us/sample - loss: 0.4213 - accuracy: 0.7876 - val_loss: 0.7081 - val_accuracy: 0.7347\n",
      "Epoch 73/200\n",
      "193/193 [==============================] - 0s 331us/sample - loss: 0.4436 - accuracy: 0.8083 - val_loss: 0.4229 - val_accuracy: 0.7959\n",
      "Epoch 74/200\n",
      "193/193 [==============================] - 0s 331us/sample - loss: 0.4379 - accuracy: 0.8031 - val_loss: 0.5250 - val_accuracy: 0.7347\n",
      "Epoch 75/200\n",
      "193/193 [==============================] - 0s 341us/sample - loss: 0.4096 - accuracy: 0.7772 - val_loss: 0.7278 - val_accuracy: 0.7347\n",
      "Epoch 76/200\n",
      "193/193 [==============================] - 0s 320us/sample - loss: 0.4591 - accuracy: 0.8031 - val_loss: 0.4909 - val_accuracy: 0.7755\n",
      "Epoch 77/200\n",
      "193/193 [==============================] - 0s 305us/sample - loss: 0.4519 - accuracy: 0.7927 - val_loss: 0.4526 - val_accuracy: 0.7959\n",
      "Epoch 78/200\n",
      "193/193 [==============================] - 0s 305us/sample - loss: 0.4538 - accuracy: 0.7824 - val_loss: 0.4598 - val_accuracy: 0.7755\n",
      "Epoch 79/200\n",
      "193/193 [==============================] - 0s 310us/sample - loss: 0.4542 - accuracy: 0.8083 - val_loss: 0.4604 - val_accuracy: 0.7347\n",
      "Epoch 80/200\n",
      "193/193 [==============================] - 0s 367us/sample - loss: 0.4045 - accuracy: 0.8031 - val_loss: 0.4569 - val_accuracy: 0.7347\n",
      "Epoch 81/200\n",
      "193/193 [==============================] - 0s 305us/sample - loss: 0.4512 - accuracy: 0.7979 - val_loss: 0.6396 - val_accuracy: 0.7551\n",
      "Epoch 82/200\n",
      "193/193 [==============================] - 0s 320us/sample - loss: 0.4317 - accuracy: 0.8187 - val_loss: 0.4377 - val_accuracy: 0.8367\n",
      "Epoch 83/200\n",
      "193/193 [==============================] - 0s 419us/sample - loss: 0.4509 - accuracy: 0.7772 - val_loss: 0.4191 - val_accuracy: 0.7959\n",
      "Epoch 84/200\n",
      "193/193 [==============================] - 0s 398us/sample - loss: 0.4070 - accuracy: 0.8497 - val_loss: 1.2067 - val_accuracy: 0.5102\n",
      "Epoch 85/200\n",
      "193/193 [==============================] - 0s 382us/sample - loss: 0.4944 - accuracy: 0.8031 - val_loss: 0.4434 - val_accuracy: 0.7551\n",
      "Epoch 86/200\n",
      "193/193 [==============================] - 0s 413us/sample - loss: 0.4024 - accuracy: 0.7979 - val_loss: 0.5298 - val_accuracy: 0.7959\n",
      "Epoch 87/200\n",
      "193/193 [==============================] - 0s 269us/sample - loss: 0.4332 - accuracy: 0.8031 - val_loss: 0.5410 - val_accuracy: 0.7551\n",
      "Epoch 88/200\n",
      "193/193 [==============================] - 0s 243us/sample - loss: 0.3980 - accuracy: 0.8031 - val_loss: 0.9151 - val_accuracy: 0.5306\n",
      "Epoch 89/200\n",
      "193/193 [==============================] - 0s 243us/sample - loss: 0.4760 - accuracy: 0.7720 - val_loss: 0.6125 - val_accuracy: 0.6939\n",
      "Epoch 90/200\n",
      "193/193 [==============================] - 0s 264us/sample - loss: 0.4107 - accuracy: 0.8238 - val_loss: 0.4703 - val_accuracy: 0.7755\n",
      "Epoch 91/200\n",
      "193/193 [==============================] - 0s 248us/sample - loss: 0.4381 - accuracy: 0.7668 - val_loss: 0.4209 - val_accuracy: 0.8367\n",
      "Epoch 92/200\n",
      "193/193 [==============================] - 0s 243us/sample - loss: 0.4305 - accuracy: 0.7927 - val_loss: 0.4781 - val_accuracy: 0.7755\n",
      "Epoch 93/200\n",
      "193/193 [==============================] - 0s 238us/sample - loss: 0.4060 - accuracy: 0.7979 - val_loss: 0.4088 - val_accuracy: 0.7959\n",
      "Epoch 94/200\n",
      "193/193 [==============================] - 0s 238us/sample - loss: 0.3888 - accuracy: 0.8031 - val_loss: 0.9914 - val_accuracy: 0.5510\n",
      "Epoch 95/200\n",
      "193/193 [==============================] - 0s 227us/sample - loss: 0.4492 - accuracy: 0.8083 - val_loss: 0.4389 - val_accuracy: 0.8163\n",
      "Epoch 96/200\n",
      "193/193 [==============================] - 0s 274us/sample - loss: 0.4292 - accuracy: 0.8290 - val_loss: 0.4155 - val_accuracy: 0.7959\n",
      "Epoch 97/200\n",
      "193/193 [==============================] - 0s 233us/sample - loss: 0.4063 - accuracy: 0.8187 - val_loss: 0.5537 - val_accuracy: 0.7755\n",
      "Epoch 98/200\n",
      "193/193 [==============================] - 0s 233us/sample - loss: 0.4226 - accuracy: 0.7772 - val_loss: 0.4134 - val_accuracy: 0.7959\n",
      "Epoch 99/200\n",
      "193/193 [==============================] - 0s 279us/sample - loss: 0.3874 - accuracy: 0.8549 - val_loss: 0.4427 - val_accuracy: 0.7755\n",
      "Epoch 100/200\n",
      "193/193 [==============================] - 0s 346us/sample - loss: 0.3959 - accuracy: 0.8031 - val_loss: 0.8435 - val_accuracy: 0.5918\n",
      "Epoch 101/200\n",
      "193/193 [==============================] - 0s 331us/sample - loss: 0.4705 - accuracy: 0.8238 - val_loss: 0.5248 - val_accuracy: 0.7347\n",
      "Epoch 102/200\n",
      "193/193 [==============================] - 0s 367us/sample - loss: 0.4133 - accuracy: 0.8031 - val_loss: 0.5682 - val_accuracy: 0.7143\n",
      "Epoch 103/200\n",
      "193/193 [==============================] - 0s 326us/sample - loss: 0.4283 - accuracy: 0.8031 - val_loss: 0.4689 - val_accuracy: 0.8163\n",
      "Epoch 104/200\n",
      "193/193 [==============================] - 0s 326us/sample - loss: 0.3833 - accuracy: 0.8238 - val_loss: 1.1036 - val_accuracy: 0.5306\n",
      "Epoch 105/200\n",
      "193/193 [==============================] - 0s 310us/sample - loss: 0.4611 - accuracy: 0.7979 - val_loss: 0.7003 - val_accuracy: 0.6531\n",
      "Epoch 106/200\n",
      "193/193 [==============================] - 0s 284us/sample - loss: 0.4100 - accuracy: 0.8135 - val_loss: 0.4940 - val_accuracy: 0.8163\n",
      "Epoch 107/200\n",
      "193/193 [==============================] - 0s 310us/sample - loss: 0.4339 - accuracy: 0.8238 - val_loss: 0.4212 - val_accuracy: 0.7551\n",
      "Epoch 108/200\n",
      "193/193 [==============================] - 0s 274us/sample - loss: 0.4597 - accuracy: 0.7876 - val_loss: 0.4085 - val_accuracy: 0.7959\n",
      "Epoch 109/200\n",
      "193/193 [==============================] - 0s 305us/sample - loss: 0.3736 - accuracy: 0.8342 - val_loss: 0.7157 - val_accuracy: 0.7755\n",
      "Epoch 110/200\n"
     ]
    },
    {
     "name": "stdout",
     "output_type": "stream",
     "text": [
      "193/193 [==============================] - 0s 357us/sample - loss: 0.3694 - accuracy: 0.8135 - val_loss: 1.0265 - val_accuracy: 0.6939\n",
      "Epoch 111/200\n",
      "193/193 [==============================] - 0s 362us/sample - loss: 0.4765 - accuracy: 0.7979 - val_loss: 0.4046 - val_accuracy: 0.8163\n",
      "Epoch 112/200\n",
      "193/193 [==============================] - 0s 393us/sample - loss: 0.3956 - accuracy: 0.8031 - val_loss: 0.8057 - val_accuracy: 0.5918\n",
      "Epoch 113/200\n",
      "193/193 [==============================] - 0s 315us/sample - loss: 0.4517 - accuracy: 0.7772 - val_loss: 0.4097 - val_accuracy: 0.7755\n",
      "Epoch 114/200\n",
      "193/193 [==============================] - 0s 300us/sample - loss: 0.4028 - accuracy: 0.8290 - val_loss: 0.4141 - val_accuracy: 0.7755\n",
      "Epoch 115/200\n",
      "193/193 [==============================] - 0s 320us/sample - loss: 0.3821 - accuracy: 0.8031 - val_loss: 0.7188 - val_accuracy: 0.7347\n",
      "Epoch 116/200\n",
      "193/193 [==============================] - 0s 372us/sample - loss: 0.4064 - accuracy: 0.8290 - val_loss: 0.4103 - val_accuracy: 0.8367\n",
      "Epoch 117/200\n",
      "193/193 [==============================] - 0s 320us/sample - loss: 0.3895 - accuracy: 0.8187 - val_loss: 0.4010 - val_accuracy: 0.7755\n",
      "Epoch 118/200\n",
      "193/193 [==============================] - 0s 295us/sample - loss: 0.4062 - accuracy: 0.8135 - val_loss: 0.4041 - val_accuracy: 0.8367\n",
      "Epoch 119/200\n",
      "193/193 [==============================] - 0s 284us/sample - loss: 0.4056 - accuracy: 0.8031 - val_loss: 0.3854 - val_accuracy: 0.8571\n",
      "Epoch 120/200\n",
      "193/193 [==============================] - 0s 331us/sample - loss: 0.3842 - accuracy: 0.8342 - val_loss: 0.6755 - val_accuracy: 0.6939\n",
      "Epoch 121/200\n",
      "193/193 [==============================] - 0s 315us/sample - loss: 0.3893 - accuracy: 0.8135 - val_loss: 0.3909 - val_accuracy: 0.8367\n",
      "Epoch 122/200\n",
      "193/193 [==============================] - 0s 336us/sample - loss: 0.4015 - accuracy: 0.8187 - val_loss: 0.4006 - val_accuracy: 0.8163\n",
      "Epoch 123/200\n",
      "193/193 [==============================] - 0s 310us/sample - loss: 0.4062 - accuracy: 0.8497 - val_loss: 0.4039 - val_accuracy: 0.8163\n",
      "Epoch 124/200\n",
      "193/193 [==============================] - 0s 310us/sample - loss: 0.4423 - accuracy: 0.7979 - val_loss: 0.4197 - val_accuracy: 0.7755\n",
      "Epoch 125/200\n",
      "193/193 [==============================] - 0s 295us/sample - loss: 0.4340 - accuracy: 0.7668 - val_loss: 0.4317 - val_accuracy: 0.7755\n",
      "Epoch 126/200\n",
      "193/193 [==============================] - 0s 289us/sample - loss: 0.3786 - accuracy: 0.8342 - val_loss: 0.4386 - val_accuracy: 0.8367\n",
      "Epoch 127/200\n",
      "193/193 [==============================] - 0s 367us/sample - loss: 0.3657 - accuracy: 0.8497 - val_loss: 0.4114 - val_accuracy: 0.8367\n",
      "Epoch 128/200\n",
      "193/193 [==============================] - 0s 295us/sample - loss: 0.3506 - accuracy: 0.8394 - val_loss: 0.5018 - val_accuracy: 0.7347\n",
      "Epoch 129/200\n",
      "193/193 [==============================] - 0s 295us/sample - loss: 0.4435 - accuracy: 0.8083 - val_loss: 0.5158 - val_accuracy: 0.7551\n",
      "Epoch 130/200\n",
      "193/193 [==============================] - 0s 310us/sample - loss: 0.4111 - accuracy: 0.8031 - val_loss: 0.6286 - val_accuracy: 0.7143\n",
      "Epoch 131/200\n",
      "193/193 [==============================] - 0s 357us/sample - loss: 0.4060 - accuracy: 0.8083 - val_loss: 0.4059 - val_accuracy: 0.8367\n",
      "Epoch 132/200\n",
      "193/193 [==============================] - 0s 341us/sample - loss: 0.3708 - accuracy: 0.8342 - val_loss: 0.4430 - val_accuracy: 0.7959\n",
      "Epoch 133/200\n",
      "193/193 [==============================] - 0s 279us/sample - loss: 0.3839 - accuracy: 0.8497 - val_loss: 0.4005 - val_accuracy: 0.7959\n",
      "Epoch 134/200\n",
      "193/193 [==============================] - 0s 289us/sample - loss: 0.3872 - accuracy: 0.8290 - val_loss: 0.7796 - val_accuracy: 0.6327\n",
      "Epoch 135/200\n",
      "193/193 [==============================] - 0s 264us/sample - loss: 0.4062 - accuracy: 0.8187 - val_loss: 0.4134 - val_accuracy: 0.7959\n",
      "Epoch 136/200\n",
      "193/193 [==============================] - 0s 331us/sample - loss: 0.3861 - accuracy: 0.8342 - val_loss: 0.4597 - val_accuracy: 0.8367\n",
      "Epoch 137/200\n",
      "193/193 [==============================] - 0s 320us/sample - loss: 0.3684 - accuracy: 0.8135 - val_loss: 0.5737 - val_accuracy: 0.7755\n",
      "Epoch 138/200\n",
      "193/193 [==============================] - 0s 326us/sample - loss: 0.3897 - accuracy: 0.8342 - val_loss: 0.4354 - val_accuracy: 0.7959\n",
      "Epoch 139/200\n",
      "193/193 [==============================] - 0s 326us/sample - loss: 0.4533 - accuracy: 0.8031 - val_loss: 0.4124 - val_accuracy: 0.8163\n",
      "Epoch 140/200\n",
      "193/193 [==============================] - 0s 300us/sample - loss: 0.3753 - accuracy: 0.8290 - val_loss: 0.3821 - val_accuracy: 0.8367\n",
      "Epoch 141/200\n",
      "193/193 [==============================] - 0s 284us/sample - loss: 0.3776 - accuracy: 0.8290 - val_loss: 0.7753 - val_accuracy: 0.6735\n",
      "Epoch 142/200\n",
      "193/193 [==============================] - 0s 326us/sample - loss: 0.3894 - accuracy: 0.8031 - val_loss: 0.4236 - val_accuracy: 0.7347\n",
      "Epoch 143/200\n",
      "193/193 [==============================] - 0s 300us/sample - loss: 0.4005 - accuracy: 0.8135 - val_loss: 0.4867 - val_accuracy: 0.7551\n",
      "Epoch 144/200\n",
      "193/193 [==============================] - 0s 258us/sample - loss: 0.3726 - accuracy: 0.8342 - val_loss: 0.6236 - val_accuracy: 0.6939\n",
      "Epoch 145/200\n",
      "193/193 [==============================] - 0s 284us/sample - loss: 0.3828 - accuracy: 0.8238 - val_loss: 0.4534 - val_accuracy: 0.7551\n",
      "Epoch 146/200\n",
      "193/193 [==============================] - 0s 274us/sample - loss: 0.3680 - accuracy: 0.8342 - val_loss: 0.3834 - val_accuracy: 0.8367\n",
      "Epoch 147/200\n",
      "193/193 [==============================] - 0s 289us/sample - loss: 0.4413 - accuracy: 0.7876 - val_loss: 0.4167 - val_accuracy: 0.8571\n",
      "Epoch 148/200\n",
      "193/193 [==============================] - 0s 320us/sample - loss: 0.3550 - accuracy: 0.8497 - val_loss: 0.4731 - val_accuracy: 0.8163\n",
      "Epoch 149/200\n",
      "193/193 [==============================] - 0s 305us/sample - loss: 0.4142 - accuracy: 0.8238 - val_loss: 0.4806 - val_accuracy: 0.7551\n",
      "Epoch 150/200\n",
      "193/193 [==============================] - 0s 357us/sample - loss: 0.3832 - accuracy: 0.8290 - val_loss: 0.4103 - val_accuracy: 0.7959\n",
      "Epoch 151/200\n",
      "193/193 [==============================] - 0s 300us/sample - loss: 0.3925 - accuracy: 0.8031 - val_loss: 0.4412 - val_accuracy: 0.8367\n",
      "Epoch 152/200\n",
      "193/193 [==============================] - 0s 372us/sample - loss: 0.3556 - accuracy: 0.8653 - val_loss: 0.5499 - val_accuracy: 0.7959\n",
      "Epoch 153/200\n",
      "193/193 [==============================] - 0s 341us/sample - loss: 0.4171 - accuracy: 0.8238 - val_loss: 0.3932 - val_accuracy: 0.8163\n",
      "Epoch 154/200\n",
      "193/193 [==============================] - 0s 398us/sample - loss: 0.3925 - accuracy: 0.8290 - val_loss: 0.6511 - val_accuracy: 0.7551\n",
      "Epoch 155/200\n",
      "193/193 [==============================] - 0s 393us/sample - loss: 0.3761 - accuracy: 0.8394 - val_loss: 0.4980 - val_accuracy: 0.8163\n",
      "Epoch 156/200\n",
      "193/193 [==============================] - 0s 357us/sample - loss: 0.4054 - accuracy: 0.7979 - val_loss: 0.6883 - val_accuracy: 0.6735\n",
      "Epoch 157/200\n",
      "193/193 [==============================] - 0s 326us/sample - loss: 0.3771 - accuracy: 0.8290 - val_loss: 0.7715 - val_accuracy: 0.6531\n",
      "Epoch 158/200\n",
      "193/193 [==============================] - 0s 284us/sample - loss: 0.4153 - accuracy: 0.7979 - val_loss: 0.4318 - val_accuracy: 0.8367\n",
      "Epoch 159/200\n",
      "193/193 [==============================] - 0s 300us/sample - loss: 0.3876 - accuracy: 0.8031 - val_loss: 0.3909 - val_accuracy: 0.7959\n",
      "Epoch 160/200\n",
      "193/193 [==============================] - 0s 253us/sample - loss: 0.3811 - accuracy: 0.8342 - val_loss: 0.4711 - val_accuracy: 0.7959\n",
      "Epoch 161/200\n",
      "193/193 [==============================] - 0s 419us/sample - loss: 0.3948 - accuracy: 0.8394 - val_loss: 0.3700 - val_accuracy: 0.8367\n",
      "Epoch 162/200\n",
      "193/193 [==============================] - 0s 558us/sample - loss: 0.3895 - accuracy: 0.8446 - val_loss: 0.4386 - val_accuracy: 0.8163\n",
      "Epoch 163/200\n",
      "193/193 [==============================] - 0s 279us/sample - loss: 0.4031 - accuracy: 0.7979 - val_loss: 0.3872 - val_accuracy: 0.8367\n",
      "Epoch 164/200\n",
      "193/193 [==============================] - 0s 233us/sample - loss: 0.3472 - accuracy: 0.8549 - val_loss: 0.3985 - val_accuracy: 0.8367\n",
      "Epoch 165/200\n"
     ]
    },
    {
     "name": "stdout",
     "output_type": "stream",
     "text": [
      "193/193 [==============================] - 0s 222us/sample - loss: 0.3827 - accuracy: 0.8187 - val_loss: 0.5820 - val_accuracy: 0.6939\n",
      "Epoch 166/200\n",
      "193/193 [==============================] - 0s 222us/sample - loss: 0.3758 - accuracy: 0.8238 - val_loss: 0.9533 - val_accuracy: 0.5714\n",
      "Epoch 167/200\n",
      "193/193 [==============================] - 0s 243us/sample - loss: 0.3806 - accuracy: 0.8290 - val_loss: 0.5353 - val_accuracy: 0.7959\n",
      "Epoch 168/200\n",
      "193/193 [==============================] - 0s 238us/sample - loss: 0.3831 - accuracy: 0.8135 - val_loss: 0.4641 - val_accuracy: 0.7755\n",
      "Epoch 169/200\n",
      "193/193 [==============================] - 0s 238us/sample - loss: 0.4003 - accuracy: 0.7876 - val_loss: 0.3938 - val_accuracy: 0.8163\n",
      "Epoch 170/200\n",
      "193/193 [==============================] - 0s 243us/sample - loss: 0.3679 - accuracy: 0.8238 - val_loss: 0.7964 - val_accuracy: 0.6122\n",
      "Epoch 171/200\n",
      "193/193 [==============================] - 0s 233us/sample - loss: 0.3878 - accuracy: 0.8187 - val_loss: 0.4777 - val_accuracy: 0.7347\n",
      "Epoch 172/200\n",
      "193/193 [==============================] - 0s 243us/sample - loss: 0.3991 - accuracy: 0.8135 - val_loss: 0.4474 - val_accuracy: 0.7755\n",
      "Epoch 173/200\n",
      "193/193 [==============================] - 0s 233us/sample - loss: 0.3609 - accuracy: 0.8394 - val_loss: 0.3822 - val_accuracy: 0.8163\n",
      "Epoch 174/200\n",
      "193/193 [==============================] - 0s 258us/sample - loss: 0.3901 - accuracy: 0.8135 - val_loss: 0.4833 - val_accuracy: 0.7755\n",
      "Epoch 175/200\n",
      "193/193 [==============================] - 0s 243us/sample - loss: 0.3620 - accuracy: 0.8446 - val_loss: 0.4490 - val_accuracy: 0.8367\n",
      "Epoch 176/200\n",
      "193/193 [==============================] - 0s 238us/sample - loss: 0.3932 - accuracy: 0.8342 - val_loss: 0.3855 - val_accuracy: 0.7959\n",
      "Epoch 177/200\n",
      "193/193 [==============================] - 0s 233us/sample - loss: 0.3804 - accuracy: 0.8446 - val_loss: 0.3725 - val_accuracy: 0.8571\n",
      "Epoch 178/200\n",
      "193/193 [==============================] - 0s 238us/sample - loss: 0.3531 - accuracy: 0.8549 - val_loss: 0.4644 - val_accuracy: 0.7755\n",
      "Epoch 179/200\n",
      "193/193 [==============================] - 0s 238us/sample - loss: 0.3991 - accuracy: 0.8187 - val_loss: 0.4187 - val_accuracy: 0.7755\n",
      "Epoch 180/200\n",
      "193/193 [==============================] - 0s 233us/sample - loss: 0.3944 - accuracy: 0.8083 - val_loss: 0.3980 - val_accuracy: 0.8163\n",
      "Epoch 181/200\n",
      "193/193 [==============================] - 0s 253us/sample - loss: 0.4222 - accuracy: 0.8342 - val_loss: 0.5688 - val_accuracy: 0.7143\n",
      "Epoch 182/200\n",
      "193/193 [==============================] - 0s 248us/sample - loss: 0.3829 - accuracy: 0.8238 - val_loss: 0.4136 - val_accuracy: 0.7959\n",
      "Epoch 183/200\n",
      "193/193 [==============================] - 0s 233us/sample - loss: 0.3858 - accuracy: 0.8290 - val_loss: 0.4927 - val_accuracy: 0.7551\n",
      "Epoch 184/200\n",
      "193/193 [==============================] - 0s 439us/sample - loss: 0.3707 - accuracy: 0.8497 - val_loss: 0.3881 - val_accuracy: 0.8163\n",
      "Epoch 185/200\n",
      "193/193 [==============================] - 0s 439us/sample - loss: 0.3449 - accuracy: 0.8549 - val_loss: 0.4564 - val_accuracy: 0.8163\n",
      "Epoch 186/200\n",
      "193/193 [==============================] - 0s 320us/sample - loss: 0.3584 - accuracy: 0.8187 - val_loss: 0.9686 - val_accuracy: 0.5918\n",
      "Epoch 187/200\n",
      "193/193 [==============================] - 0s 274us/sample - loss: 0.3979 - accuracy: 0.8446 - val_loss: 0.3879 - val_accuracy: 0.8163\n",
      "Epoch 188/200\n",
      "193/193 [==============================] - 0s 238us/sample - loss: 0.3460 - accuracy: 0.8653 - val_loss: 0.5766 - val_accuracy: 0.8163\n",
      "Epoch 189/200\n",
      "193/193 [==============================] - 0s 233us/sample - loss: 0.4104 - accuracy: 0.8394 - val_loss: 0.3997 - val_accuracy: 0.8163\n",
      "Epoch 190/200\n",
      "193/193 [==============================] - 0s 310us/sample - loss: 0.3740 - accuracy: 0.8135 - val_loss: 0.4415 - val_accuracy: 0.7755\n",
      "Epoch 191/200\n",
      "193/193 [==============================] - 0s 243us/sample - loss: 0.3939 - accuracy: 0.7979 - val_loss: 0.4276 - val_accuracy: 0.7959\n",
      "Epoch 192/200\n",
      "193/193 [==============================] - 0s 253us/sample - loss: 0.3788 - accuracy: 0.8394 - val_loss: 0.4422 - val_accuracy: 0.8571\n",
      "Epoch 193/200\n",
      "193/193 [==============================] - 0s 243us/sample - loss: 0.3597 - accuracy: 0.8446 - val_loss: 0.3910 - val_accuracy: 0.7755\n",
      "Epoch 194/200\n",
      "193/193 [==============================] - 0s 238us/sample - loss: 0.3713 - accuracy: 0.8083 - val_loss: 0.4499 - val_accuracy: 0.8571\n",
      "Epoch 195/200\n",
      "193/193 [==============================] - 0s 233us/sample - loss: 0.3584 - accuracy: 0.8290 - val_loss: 0.4864 - val_accuracy: 0.7959\n",
      "Epoch 196/200\n",
      "193/193 [==============================] - 0s 227us/sample - loss: 0.3932 - accuracy: 0.8135 - val_loss: 0.4648 - val_accuracy: 0.7755\n",
      "Epoch 197/200\n",
      "193/193 [==============================] - 0s 243us/sample - loss: 0.3591 - accuracy: 0.8394 - val_loss: 0.4921 - val_accuracy: 0.7959\n",
      "Epoch 198/200\n",
      "193/193 [==============================] - 0s 264us/sample - loss: 0.3504 - accuracy: 0.8653 - val_loss: 0.3987 - val_accuracy: 0.7755\n",
      "Epoch 199/200\n",
      "193/193 [==============================] - 0s 238us/sample - loss: 0.3680 - accuracy: 0.8446 - val_loss: 0.4572 - val_accuracy: 0.7755\n",
      "Epoch 200/200\n",
      "193/193 [==============================] - 0s 258us/sample - loss: 0.3613 - accuracy: 0.8342 - val_loss: 0.3752 - val_accuracy: 0.8367\n"
     ]
    }
   ],
   "source": [
    "history = model.fit(X_train, y_train, validation_split=0.2, epochs=200, batch_size=10, verbose=1)"
   ]
  },
  {
   "cell_type": "markdown",
   "metadata": {},
   "source": [
    "The validation accuracy predicted by the model is around 80%. It can further be increased by trying to optimize the epochs, the number of layers or the number of nodes per layer."
   ]
  },
  {
   "cell_type": "markdown",
   "metadata": {},
   "source": [
    "## Model Evaluation\n",
    "Evaluating the model requires that we first choose a separate dataset used to evaluate the model. This should be data not used in the training process i.e. the X_test.\n",
    "\n",
    "Now, let us use the trained model to predict the probability values for the new data set - The test set we had initially created. The below code passes the X_test and y_test to the trained model and gives out the probability."
   ]
  },
  {
   "cell_type": "code",
   "execution_count": 140,
   "metadata": {},
   "outputs": [
    {
     "name": "stdout",
     "output_type": "stream",
     "text": [
      "WARNING:tensorflow:Falling back from v2 loop because of error: Failed to find data adapter that can handle input: <class 'pandas.core.frame.DataFrame'>, <class 'NoneType'>\n",
      "61/61 [==============================] - 0s 98us/sample - loss: 0.4547 - accuracy: 0.8361\n"
     ]
    },
    {
     "data": {
      "text/plain": [
       "[0.45473667637246556, 0.8360656]"
      ]
     },
     "execution_count": 140,
     "metadata": {},
     "output_type": "execute_result"
    }
   ],
   "source": [
    "model.evaluate(X_test, y_test)"
   ]
  },
  {
   "cell_type": "markdown",
   "metadata": {},
   "source": [
    "### Model Accuracy\n",
    "Now, we'll use the history object created above to plot the Accuracy and Loss throughout the training process.\n",
    "\n",
    "You can think of history.history as a Python dictionary from which the values can be obtained by specifying a key within square brackets.\n",
    "\n",
    "For eg. `history.history['accuracy']` will give the train accuracy throughout the training process."
   ]
  },
  {
   "cell_type": "code",
   "execution_count": 141,
   "metadata": {},
   "outputs": [
    {
     "data": {
      "image/png": "[encoded data removed]",
      "text/plain": [
       "<Figure size 432x288 with 1 Axes>"
      ]
     },
     "metadata": {
      "needs_background": "light"
     },
     "output_type": "display_data"
    }
   ],
   "source": [
    "plt.plot(history.history['accuracy'])\n",
    "plt.plot(history.history['val_accuracy'])\n",
    "plt.title('Model Accuracy')\n",
    "plt.ylabel('accuracy')\n",
    "plt.xlabel('epoch')\n",
    "plt.legend(['Train', 'Validation'])\n",
    "plt.show()"
   ]
  },
  {
   "cell_type": "markdown",
   "metadata": {},
   "source": [
    "### Model Loss"
   ]
  },
  {
   "cell_type": "code",
   "execution_count": 142,
   "metadata": {},
   "outputs": [
    {
     "data": {
      "image/png": "[encoded data removed]",
      "text/plain": [
       "<Figure size 432x288 with 1 Axes>"
      ]
     },
     "metadata": {
      "needs_background": "light"
     },
     "output_type": "display_data"
    }
   ],
   "source": [
    "plt.plot(history.history['loss'])\n",
    "plt.plot(history.history['val_loss'])\n",
    "plt.title('Model Loss')\n",
    "plt.ylabel('loss')\n",
    "plt.xlabel('epoch')\n",
    "plt.legend(['Train', 'Validation'])\n",
    "plt.show()"
   ]
  },
  {
   "cell_type": "markdown",
   "metadata": {},
   "source": [
    "# Conclusion\n",
    "In this example, we developed a working Neural Network for the binary classification problem.\n",
    "\n",
    "The model can be optimised further using hyperparameter tuning and other techniques."
   ]
  },
  {
   "cell_type": "code",
   "execution_count": null,
   "metadata": {},
   "outputs": [],
   "source": []
  }
 ],
 "metadata": {
  "kernelspec": {
   "display_name": "Python 3",
   "language": "python",
   "name": "python3"
  },
  "language_info": {
   "codemirror_mode": {
    "name": "ipython",
    "version": 3
   },
   "file_extension": ".py",
   "mimetype": "text/x-python",
   "name": "python",
   "nbconvert_exporter": "python",
   "pygments_lexer": "ipython3",
   "version": "3.7.5"
  }
 },
 "nbformat": 4,
 "nbformat_minor": 2
}
